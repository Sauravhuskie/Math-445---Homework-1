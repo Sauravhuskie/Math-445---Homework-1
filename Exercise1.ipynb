{
 "cells": [
  {
   "cell_type": "markdown",
   "metadata": {},
   "source": [
    "---\n",
    "\n",
    "# Spring 2021 MATH 445 HW01"
   ]
  },
  {
   "cell_type": "markdown",
   "metadata": {},
   "source": [
    "---\n",
    "\n",
    "The following exercises are from the textbook [Linear Algebra and Learning from Data](https://math.mit.edu/~gs/learningfromdata/) by [Gilbert Strang](http://math.mit.edu/~gs/)."
   ]
  },
  {
   "cell_type": "markdown",
   "metadata": {},
   "source": [
    "---\n",
    "\n",
    "## Exercise 1\n",
    "\n",
    "**(Exercises I.1.1 and I.1.5 in textbook)**\n",
    "\n",
    "1. Give an example where a combination of three nonzero vectors in $\\mathbb{R}^4$ is the zero vector. Then write your example in the form $Ax = 0$. What are the shapes of $A$ and $x$ and $0$?\n",
    "\n",
    "2. The linear combinations of $v = (1, 1, 0)$ and $w = (0, 1, 1)$ fill a plane in $\\mathbb{R}^3$.\n",
    "\n",
    "    (a) Find a vector $z$ that is perpendicular to $v$ and $w$. Then $z$ is perpendicular to every vector $c_1 v + c_2 w$ on the plane: $(c_1 v + c_2 w)^T z = c_1 v^T z + c_2 w^T z = 0 + 0$.\n",
    "    \n",
    "    (b) Find a vector $u$ that is not on the plane. Check that $u^T z \\neq 0$."
   ]
  },
  {
   "cell_type": "markdown",
   "metadata": {},
   "source": [
    "## Answer to Exercise 1\n",
    "\n",
    "1. $$ A = \\begin{bmatrix}\n",
    "    x & x-y & y \\\\\n",
    "    \\end{bmatrix}\n",
    "    \\qquad\n",
    "    x = \\begin{bmatrix}\n",
    "    1 \\\\\n",
    "    1 \\\\\n",
    "    -1 \\\\\n",
    "    \\end{bmatrix}\n",
    "    $$\n",
    "\n",
    "hapes of $A$ is 4X3 and $x$ is 3X1 and $0$ is 4X1\n",
    "\n",
    "2. (a) vector z that is perpendicular to v and w\n",
    "\n",
    "Let vector z = (a1, a2,a3)\n",
    "\n",
    "      z.v  = 0\n",
    "      z.w = 0      \n",
    "      1*a1 + 1*a2 + 0*a3 = 0 ---(1)       \n",
    "      0*a1 + 1*a2 + 1*a3 = 0 ---(2)\n",
    "      solving 1 and 2: z = (1,-1,1)\n",
    "\n",
    "    \n",
    "    \n",
    "    (b) let  u = (b1, b2, b3) \n",
    "    \n",
    "    \n",
    "    (b1*1 + b2*-1 + b3 * 1) is not equal to zero\n",
    "    \n",
    "    Therefore, b1 = 3 , b2 = 2, b3 = 1 is a solution.\n",
    "    \n",
    "    So u = (3,2,1)\n",
    "    \n",
    "    \n",
    "\n",
    "\n",
    "\n"
   ]
  },
  {
   "cell_type": "markdown",
   "metadata": {},
   "source": [
    "---\n",
    "\n",
    "Name: **Saurav Mukhopadhyay**\n",
    "\n",
    "**List all sources of help, such as other people, online resources, or any other resource that helped you complete this assignment. If you did this assignment without any resources, type \"none\" here. Do not leave the acknowledgements blank.**\n",
    "\n",
    "Acknowledgements:  https://math.mit.edu/~gs/learningfromdata/lald_sols14.pdf"
   ]
  },
  {
   "cell_type": "markdown",
   "metadata": {},
   "source": [
    "---"
   ]
  }
 ],
 "metadata": {
  "kernelspec": {
   "display_name": "Julia 1.7.2",
   "language": "julia",
   "name": "julia-1.7"
  },
  "language_info": {
   "file_extension": ".jl",
   "mimetype": "application/julia",
   "name": "julia",
   "version": "1.7.2"
  }
 },
 "nbformat": 4,
 "nbformat_minor": 4
}
