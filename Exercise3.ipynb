{
 "cells": [
  {
   "cell_type": "markdown",
   "metadata": {},
   "source": [
    "---\n",
    "\n",
    "# Spring 2021 MATH 445 HW01"
   ]
  },
  {
   "cell_type": "markdown",
   "metadata": {},
   "source": [
    "---\n",
    "\n",
    "The following exercises are from the textbook [Linear Algebra and Learning from Data](https://math.mit.edu/~gs/learningfromdata/) by [Gilbert Strang](http://math.mit.edu/~gs/)."
   ]
  },
  {
   "cell_type": "markdown",
   "metadata": {},
   "source": [
    "---\n",
    "\n",
    "## Exercise 3\n",
    "\n",
    "**(Exercises I.2.7 and I.2.8 in textbook)**\n",
    "\n",
    "1. *Fact*: The columns of $AB$ are combinations of the columns of $A$. Then the column *space* of $AB$ is *contained in* the column space of $A$. Give an example of $A$ and $B$ for which $AB$ has a smaller column space than $A$.\n",
    "\n",
    "2. To compute $C = AB =$ ($m$ by $n$) ($n$ by $p$), what order of the three loops leads to columns times rows (outer products)?\n",
    "\n",
    "   Complete the `column_times_row` function and check that it gives the same output as the `row_times_column` function. Is one function faster than the other when multiplying large matrices?"
   ]
  },
  {
   "cell_type": "markdown",
   "metadata": {},
   "source": [
    "---\n",
    "\n",
    "## Answer to Exercise 3\n",
    "\n",
    "1. *Fact*: The columns of $AB$ are combinations of the columns of $A$. Then the column *space* of $AB$ is *contained in* the column space of $A$. Give an example of $A$ and $B$ for which $AB$ has a smaller column space than $A$.\n",
    "\n",
    " $$\n",
    "    A = \\begin{bmatrix}\n",
    "    1 & 2 \\\\\n",
    "    4 & 5 \\\\\n",
    "   \\end{bmatrix}\n",
    "        \\qquad\n",
    "    B= \\begin{bmatrix}\n",
    "    1 & 0  \\\\\n",
    "    0 & 0  \\\\\n",
    "    \\end{bmatrix}\n",
    "    $$\n",
    "Then AB is \n",
    "\n",
    "$$\n",
    "    AB = \\begin{bmatrix}\n",
    "    1 & 0 \\\\\n",
    "    4 & 0 \\\\\n",
    "   \\end{bmatrix}\n",
    "$$\n",
    "\n",
    "So $AB$ has smaller row sapce than $A$\n",
    "\n",
    "\n",
    "2. To compute $C = AB =$ ($m$ by $n$) ($n$ by $p$), what order of the three loops leads to columns times rows (outer products)?\n",
    "\n",
    "   Complete the `column_times_row` function and check that it gives the same output as the `row_times_column` function. Is one function faster than the other when multiplying large matrices?"
   ]
  },
  {
   "cell_type": "markdown",
   "metadata": {},
   "source": [
    "---\n",
    "\n",
    "Name: **YOUR NAME**\n",
    "\n",
    "**List all sources of help, such as other people, online resources, or any other resource that helped you complete this assignment. If you did this assignment without any resources, type \"none\" here. Do not leave the acknowledgements blank.**\n",
    "\n",
    "Acknowledgements:  "
   ]
  },
  {
   "cell_type": "markdown",
   "metadata": {},
   "source": [
    "One is not always faster than others. Sometimes one is faster than other. To get a detailed result from these experiment we neeed to perform a statistical analyis."
   ]
  },
  {
   "cell_type": "markdown",
   "metadata": {},
   "source": [
    "---"
   ]
  }
 ],
 "metadata": {
  "kernelspec": {
   "display_name": "Julia 1.7.2",
   "language": "julia",
   "name": "julia-1.7"
  },
  "language_info": {
   "file_extension": ".jl",
   "mimetype": "application/julia",
   "name": "julia",
   "version": "1.7.2"
  }
 },
 "nbformat": 4,
 "nbformat_minor": 4
}
