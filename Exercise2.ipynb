{
 "cells": [
  {
   "cell_type": "markdown",
   "metadata": {},
   "source": [
    "---\n",
    "\n",
    "# Spring 2021 MATH 445 HW01"
   ]
  },
  {
   "cell_type": "markdown",
   "metadata": {},
   "source": [
    "---\n",
    "\n",
    "The following exercises are from the textbook [Linear Algebra and Learning from Data](https://math.mit.edu/~gs/learningfromdata/) by [Gilbert Strang](http://math.mit.edu/~gs/)."
   ]
  },
  {
   "cell_type": "markdown",
   "metadata": {},
   "source": [
    "---\n",
    "\n",
    "## Exercise 2\n",
    "\n",
    "**(Exercises I.1.10, I.1.11, and I.1.12 in textbook)**\n",
    "\n",
    "1. Find the matrices $C_1$ and $C_2$ containing independent columns of $A_1$ and $A_2$:\n",
    "\n",
    "    $$\n",
    "    A_1 = \\begin{bmatrix}\n",
    "    1 & 3 & -2 \\\\\n",
    "    3 & 9 & -6 \\\\\n",
    "    2 & 6 & -4 \\\\\n",
    "    \\end{bmatrix}\n",
    "    \\qquad\n",
    "    A_2 = \\begin{bmatrix}\n",
    "    1 & 2 & 3 \\\\\n",
    "    4 & 5 & 6 \\\\\n",
    "    7 & 8 & 9 \\\\\n",
    "    \\end{bmatrix}\n",
    "    $$\n",
    "\n",
    "2. Factor each of those matrices into $A = CR$. The matrix $R$ will contain the numbers that multiply columns of $C$ to recover columns of $A$.\n",
    "\n",
    "   This is one way to look at matrix multiplication: **$C$ times each column of $R$.**\n",
    "\n",
    "3. Produce a basis for the column spaces of $A_1$ and $A_2$. What are the *dimensions* of those column spaces—the number of independent vectors? What are the *ranks* of $A_1$ and $A_2$? How many independent rows in $A_1$ and $A_2$?"
   ]
  },
  {
   "cell_type": "markdown",
   "metadata": {},
   "source": [
    "---\n",
    "\n",
    "## Answer to Exercise 2\n",
    "\n",
    "1.  $$\n",
    "    C_1 = \\begin{bmatrix}\n",
    "    1\\\\\n",
    "    3 \\\\\n",
    "    2 \\\\\n",
    "    \\end{bmatrix}\n",
    "    \\qquad\n",
    "    C_2 = \\begin{bmatrix}\n",
    "    1 & 2 \\\\\n",
    "    4 & 5 \\\\\n",
    "    7 & 8 \\\\\n",
    "    \\end{bmatrix}\n",
    "    $$\n",
    "\n",
    "  \n",
    "   \n",
    "\n",
    "2.  $$\n",
    "    R_1 = \\begin{bmatrix}\n",
    "    1 & 3 & -2\\\\\n",
    "    \\end{bmatrix}\n",
    "    \\qquad\n",
    "     C_1 = \\begin{bmatrix}\n",
    "    1\\\\\n",
    "    3 \\\\\n",
    "    2 \\\\\n",
    "    \\end{bmatrix}\n",
    "    \\qquad\n",
    "    C_2 = \\begin{bmatrix}\n",
    "    1 & 2 \\\\\n",
    "    4 & 5 \\\\\n",
    "    7 & 8 \\\\\n",
    "    \\end{bmatrix}\n",
    "        \\qquad\n",
    "    R_2 = \\begin{bmatrix}\n",
    "    1 & 0 & -1 \\\\\n",
    "    0 & 1 & 2 \\\\\n",
    "    \\end{bmatrix}\n",
    "    $$\n",
    "   \n",
    "   \n",
    "   \n",
    "   \n",
    "\n",
    "3. Basis for the column spaces of $A_1$ is (1,3,2) and of  $A_2$ is (1,4,7) and (2,5,8)\n",
    "\n",
    "**What are the *dimensions* of those column spaces—the number of independent vectors?\n",
    "\n",
    "for $A_1$ is 1 and for  $A_2$ is 2.\n",
    "\n",
    "**What are the *ranks* of $A_1$ and $A_2$? How many independent rows in $A_1$ and $A_2$?\n",
    "\n",
    "Ranks are 1 and 2 respectively so they have 1 and 2 rows respectively as well"
   ]
  },
  {
   "cell_type": "markdown",
   "metadata": {},
   "source": [
    "---\n",
    "\n",
    "Name: **Saurav Mukhopadhyay**\n",
    "\n",
    "**List all sources of help, such as other people, online resources, or any other resource that helped you complete this assignment. If you did this assignment without any resources, type \"none\" here. Do not leave the acknowledgements blank.**\n",
    "\n",
    "Acknowledgements:  https://math.mit.edu/~gs/learningfromdata/lald_sols14.pdf"
   ]
  },
  {
   "cell_type": "markdown",
   "metadata": {},
   "source": [
    "---"
   ]
  }
 ],
 "metadata": {
  "kernelspec": {
   "display_name": "Julia 1.7.2",
   "language": "julia",
   "name": "julia-1.7"
  },
  "language_info": {
   "file_extension": ".jl",
   "mimetype": "application/julia",
   "name": "julia",
   "version": "1.7.2"
  }
 },
 "nbformat": 4,
 "nbformat_minor": 4
}
